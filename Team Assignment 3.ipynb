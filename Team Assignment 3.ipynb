{
  "nbformat": 4,
  "nbformat_minor": 0,
  "metadata": {
    "colab": {
      "provenance": []
    },
    "kernelspec": {
      "name": "python3",
      "display_name": "Python 3"
    },
    "language_info": {
      "name": "python"
    }
  },
  "cells": [
    {
      "cell_type": "code",
      "source": [
        "#Simulate Data with AR(1) Errors\n",
        "\n",
        "import numpy as np\n",
        "\n",
        "\n",
        "def simulate_regression_with_ar1_errors(n, beta0, beta1, rho, sigma):\n",
        "    \"\"\"\n",
        "    Simulate data for a regression model with AR(1) errors.\n",
        "\n",
        "    Parameters:\n",
        "    n (int): Number of observations.\n",
        "    beta0 (float): Intercept coefficient.\n",
        "    beta1 (float): Slope coefficient.\n",
        "    rho (float): Autoregressive parameter (serial correlation).\n",
        "    sigma (float): Standard deviation of the errors.\n",
        "\n",
        "    Returns:\n",
        "    Tuple (X, y): Simulated data where X is the predictor variable and y is the response variable.\n",
        "    \"\"\"\n",
        "    # Generate predictor variable\n",
        "    X = np.random.normal(size=n)\n",
        "    # Generate errors\n",
        "    errors = np.zeros(n)\n",
        "    errors[0] = np.random.normal(scale=sigma)  # Initialize the first error term\n",
        "    for t in range(1, n):\n",
        "        errors[t] = rho * errors[t-1] + np.random.normal(scale=sigma)\n",
        "\n",
        "    # Generate response variable\n",
        "    y = beta0 + beta1 * X + errors\n",
        "\n",
        "    return X, y\n",
        "\n",
        "# Parameters\n",
        "n = 1000  # Number of observations\n",
        "beta0 = 1  # Intercept coefficient\n",
        "beta1 = 0.5  # Slope coefficient\n",
        "rho = 0.8  # Autoregressive parameter\n",
        "sigma = 1  # Standard deviation of the errors\n",
        "\n",
        "X, y = simulate_regression_with_ar1_errors(n, beta0, beta1, rho, sigma)\n",
        "\n",
        "#Estimate Coefficients\n",
        "from statsmodels.regression.linear_model import OLS\n",
        "from statsmodels.tools.tools import add_constant\n",
        "\n",
        "model = OLS(y, add_constant(X)).fit()\n",
        "beta_hat = model.params\n",
        "\n",
        "#Calculate bootstrap standard errors\n",
        "\n",
        "def bootstrap_standard_errors(X, y, beta_hat, num_resamples=1000):\n",
        "    \"\"\"\n",
        "\n",
        "    Parameters:\n",
        "    X (ndarray): Predictor variable.\n",
        "    y (ndarray): Response variable.\n",
        "    beta_hat (ndarray): Estimated coefficients.\n",
        "    num_resamples (int): Number of bootstrap resamples.\n",
        "\n",
        "    Returns:\n",
        "    ndarray: Bootstrap standard errors for the coefficients.\n",
        "    \"\"\"\n",
        "    n = len(y)\n",
        "    num_coeffs = beta_hat.shape[0]\n",
        "    beta_boot_se = np.zeros(num_coeffs)\n",
        "\n",
        "    for i in range(num_resamples):\n",
        "        resample_indices = np.random.choice(range(n), size=n, replace=True)\n",
        "        X_resample = X[resample_indices]\n",
        "        y_resample = y[resample_indices]\n",
        "        model = OLS(y_resample, add_constant(X_resample)).fit()\n",
        "        beta_boot_se += (model.params - beta_hat) ** 2\n",
        "    beta_boot_se = np.sqrt(beta_boot_se / num_resamples)\n",
        "    return beta_boot_se\n",
        "\n",
        "# Bootstrap standard errors\n",
        "beta_boot_se = bootstrap_standard_errors(X, y, beta_hat)\n",
        "\n",
        "from scipy.stats import norm\n",
        "\n",
        "# Calculate confidence intervals\n",
        "z_critical = norm.ppf(0.975)\n",
        "ci_lower = beta_hat[1] - z_critical * beta_boot_se[1]\n",
        "ci_upper = beta_hat[1] + z_critical * beta_boot_se[1]\n",
        "print(\"95% Confidence Interval for Beta 1:\", (ci_lower, ci_upper))\n"
      ],
      "metadata": {
        "colab": {
          "base_uri": "https://localhost:8080/"
        },
        "id": "HNJGVn-LghHE",
        "outputId": "d62f1280-956d-4cda-86d3-225faf3d1218"
      },
      "execution_count": 55,
      "outputs": [
        {
          "output_type": "stream",
          "name": "stdout",
          "text": [
            "95% Confidence Interval for Beta 1: (0.39434589021550964, 0.6088141801651503)\n"
          ]
        }
      ]
    },
    {
      "cell_type": "code",
      "source": [
        "#Define Simulation Function for Monte Carlo Simulations\n",
        "def run_simulation(T, beta0, beta1, rho, sigma, z_critical):\n",
        "    X_sim, y_sim = simulate_regression_with_ar1_errors(T, beta0, beta1, rho, sigma)\n",
        "    model_sim = OLS(y_sim, add_constant(X_sim)).fit()\n",
        "    beta_hat_sim = model_sim.params\n",
        "    beta_boot_se_sim = bootstrap_standard_errors(X_sim, y_sim, beta_hat_sim)\n",
        "\n",
        "    ci_lower_sim = beta_hat_sim[1] - z_critical * beta_boot_se_sim[1]\n",
        "    ci_upper_sim = beta_hat_sim[1] + z_critical * beta_boot_se_sim[1]\n",
        "\n",
        "    return ci_lower_sim <= beta1 <= ci_upper_sim\n",
        "\n",
        "from joblib import Parallel, delayed\n",
        "\n",
        "# Monte Carlo simulations\n",
        "T_values = [100, 500]\n",
        "num_runs = 1000\n",
        "\n",
        "for T in T_values:\n",
        "    results = Parallel(n_jobs=-1)(\n",
        "        delayed(run_simulation)(T, beta0, beta1, rho, sigma, z_critical) for _ in range(num_runs)\n",
        "    )\n",
        "    coverage = sum(results) / num_runs\n",
        "    print(f\"Empirical Coverage for T={T}: {coverage}\")"
      ],
      "metadata": {
        "colab": {
          "base_uri": "https://localhost:8080/"
        },
        "id": "AC2oMCVIkYq9",
        "outputId": "9d7f5de5-1931-4b5b-bc7a-4396d1655c22"
      },
      "execution_count": 31,
      "outputs": [
        {
          "output_type": "stream",
          "name": "stdout",
          "text": [
            "Empirical Coverage for T=100: 0.937\n",
            "Empirical Coverage for T=500: 0.953\n"
          ]
        }
      ]
    }
  ]
}