{
  "nbformat": 4,
  "nbformat_minor": 0,
  "metadata": {
    "colab": {
      "provenance": []
    },
    "kernelspec": {
      "name": "python3",
      "display_name": "Python 3"
    },
    "language_info": {
      "name": "python"
    }
  },
  "cells": [
    {
      "cell_type": "code",
      "execution_count": null,
      "metadata": {
        "colab": {
          "base_uri": "https://localhost:8080/"
        },
        "id": "_usJNp45e39K",
        "outputId": "f89564f5-10da-4a53-8797-d3b8678a51a2"
      },
      "outputs": [
        {
          "output_type": "stream",
          "name": "stdout",
          "text": [
            "Conditional Log Likelihood: -155.73183874911425\n",
            "Unconditional Log Likelihood: -143.1813242908849\n"
          ]
        }
      ],
      "source": [
        "import numpy as np\n",
        "from scipy.stats import norm\n",
        "\n",
        "def ar7_conditional_likelihood(params, data):\n",
        "    \"\"\"\n",
        "    Compute the conditional likelihood for an AR(7) model.\n",
        "\n",
        "    Args:\n",
        "        params (list): List of parameters [phi1, phi2, ..., phi7, sigma^2].\n",
        "        data (array): Array containing observed data.\n",
        "\n",
        "    Returns:\n",
        "        float: Log likelihood value.\n",
        "    \"\"\"\n",
        "    phi = params[:-1]\n",
        "    sigma_squared = params[-1]\n",
        "    n = len(data)\n",
        "    log_likelihood = 0\n",
        "\n",
        "    # Given the first 7 observations, likelihood calculation starts from the 8th observation\n",
        "    for t in range(7, n):\n",
        "        # Compute the mean based on the preceding 7 observations\n",
        "        mean = np.dot(phi, data[t-7:t][::-1])\n",
        "        # Compute the log likelihood contribution of the current observation\n",
        "        log_likelihood += norm.logpdf(data[t], loc=mean, scale=np.sqrt(sigma_squared))\n",
        "\n",
        "    return log_likelihood\n",
        "def ar7_unconditional_likelihood(params, data):\n",
        "    \"\"\"\n",
        "    Compute the unconditional likelihood for an AR(7) model.\n",
        "\n",
        "    Args:\n",
        "        params (list): List of parameters [phi1, phi2, ..., phi7, sigma^2].\n",
        "        data (array): Array containing observed data.\n",
        "\n",
        "    Returns:\n",
        "        float: Log likelihood value.\n",
        "    \"\"\"\n",
        "    phi = params[:-1]\n",
        "    sigma_squared = params[-1]\n",
        "    n = len(data)\n",
        "    log_likelihood = 0\n",
        "\n",
        "    # Calculate the unconditional mean of the AR(7) process\n",
        "    unconditional_mean = np.dot(phi, data[:7][::-1])\n",
        "\n",
        "    # Calculate the log likelihood for each observation using the unconditional mean\n",
        "    for t in range(n):\n",
        "        log_likelihood += norm.logpdf(data[t], loc=unconditional_mean, scale=np.sqrt(sigma_squared))\n",
        "\n",
        "    return log_likelihood\n",
        "# Define sample data size and generate data\n",
        "data_size = 100\n",
        "data = np.random.normal(size=data_size)\n",
        "\n",
        "# Define initial parameters\n",
        "initial_params = [0.5, -0.2, 0.3, -0.1, 0.2, -0.4, 0.1, 1.0]\n",
        "\n",
        "# Calculate conditional likelihood\n",
        "conditional_ll = ar7_conditional_likelihood(initial_params, data)\n",
        "print(\"Conditional Log Likelihood:\", conditional_ll)\n",
        "\n",
        "# Calculate unconditional likelihood\n",
        "unconditional_ll = ar7_unconditional_likelihood(initial_params, data)\n",
        "print(\"Unconditional Log Likelihood:\", unconditional_ll)"
      ]
    },
    {
      "cell_type": "code",
      "source": [
        "from scipy.optimize import minimize\n",
        "\n",
        "# Define functions for negative log likelihood (to be minimized)\n",
        "def neg_log_likelihood_conditional(params, data):\n",
        "    return -ar7_conditional_likelihood(params, data)\n",
        "\n",
        "def neg_log_likelihood_unconditional(params, data):\n",
        "    return -ar7_unconditional_likelihood(params, data)\n",
        "\n",
        "# Example usage:\n",
        "# Generate sample data\n",
        "data = np.random.normal(size=100)\n",
        "\n",
        "# Initial parameter guess\n",
        "initial_params = [0.5, -0.2, 0.3, -0.1, 0.2, -0.4, 0.1, 1.0]\n",
        "\n",
        "# Maximize conditional likelihood\n",
        "result_conditional = minimize(neg_log_likelihood_conditional, initial_params, args=(data,), method='Nelder-Mead')\n",
        "print(\"Maximized Conditional Likelihood Parameters:\", result_conditional.x)\n",
        "\n",
        "# Maximize unconditional likelihood\n",
        "result_unconditional = minimize(neg_log_likelihood_unconditional, initial_params, args=(data,), method='Nelder-Mead')\n",
        "print(\"Maximized Unconditional Likelihood Parameters:\", result_unconditional.x)"
      ],
      "metadata": {
        "colab": {
          "base_uri": "https://localhost:8080/"
        },
        "id": "jlL-WTe9fhDQ",
        "outputId": "53681797-25b9-4ae3-8e11-64e1227d2a2d"
      },
      "execution_count": null,
      "outputs": [
        {
          "output_type": "stream",
          "name": "stdout",
          "text": [
            "Maximized Conditional Likelihood Parameters: [-0.03325704  0.04579174  0.00257266 -0.00571426  0.14923269 -0.01774663\n",
            " -0.07561107  0.90455498]\n",
            "Maximized Unconditional Likelihood Parameters: [ 0.46637547 -0.23227134 -0.02958764 -0.09122037  0.19125784 -0.6580344\n",
            "  0.12136695  0.89892826]\n"
          ]
        }
      ]
    },
    {
      "cell_type": "code",
      "source": [
        "import numpy as np\n",
        "import pandas as pd\n",
        "from scipy.optimize import minimize\n",
        "\n",
        "# Step 1: Data Preparation\n",
        "# Load the FRED-MD dataset\n",
        "data = pd.read_csv('/content/current.csv')\n",
        "\n",
        "# Assuming 'INDPRO' is the column name for the INDPRO variable\n",
        "indpro = data['INDPRO']\n",
        "\n",
        "# Calculate monthly log differences\n",
        "log_diff_indpro = np.log(indpro).diff().dropna()\n",
        "\n",
        "# Step 2: Likelihood Functions\n",
        "def ar7_conditional_likelihood(params, data):\n",
        "    phi, sigma_sq = params[:7], params[7]\n",
        "    n = len(data)\n",
        "    ll = 0\n",
        "    for t in range(7, n):\n",
        "        yt = data[t]\n",
        "        mu_t = np.dot(phi, data[t-7:t][::-1])  # Reverse the order to align with AR(7) formula\n",
        "        ll += -0.5 * (np.log(2 * np.pi * sigma_sq) + (yt - mu_t)**2 / sigma_sq)\n",
        "    return ll\n",
        "\n",
        "def ar7_unconditional_likelihood(params, data):\n",
        "    phi, sigma_sq = params[:7], params[7]\n",
        "    n = len(data)\n",
        "    mu0 = np.mean(data[:7])  # Initial mean\n",
        "    ll = -0.5 * (7 * np.log(2 * np.pi * sigma_sq) + np.sum((data[:7] - mu0)**2) / sigma_sq)\n",
        "    for t in range(7, n):\n",
        "        yt = data[t]\n",
        "        mu_t = np.dot(phi, data[t-7:t][::-1])  # Reverse the order to align with AR(7) formula\n",
        "        ll += -0.5 * (np.log(2 * np.pi * sigma_sq) + (yt - mu_t)**2 / sigma_sq)\n",
        "    return ll\n",
        "\n",
        "# Step 3: Parameter Estimation\n",
        "# Initial parameter guess\n",
        "initial_params = np.array([0.5, -0.2, 0.3, -0.1, 0.2, -0.4, 0.1, 1.0])\n",
        "\n",
        "# Maximize conditional likelihood\n",
        "result_conditional = minimize(ar7_conditional_likelihood, initial_params, args=(log_diff_indpro,), method='Nelder-Mead')\n",
        "print(\"Parameters maximizing the Conditional Likelihood:\", result_conditional.x)\n",
        "\n",
        "# Maximize unconditional likelihood\n",
        "result_unconditional = minimize(ar7_unconditional_likelihood, initial_params, args=(log_diff_indpro,), method='Nelder-Mead')\n",
        "print(\"Parameters maximizing the Unconditional Likelihood:\", result_unconditional.x)\n"
      ],
      "metadata": {
        "colab": {
          "base_uri": "https://localhost:8080/"
        },
        "id": "Zm7purwlfxMD",
        "outputId": "91750a19-7432-4566-b051-99e1f25f84a2"
      },
      "execution_count": null,
      "outputs": [
        {
          "output_type": "stream",
          "name": "stdout",
          "text": [
            "Parameters maximizing the Conditional Likelihood: [-1.05849043e+50  1.06746350e+49 -1.73462824e+49  2.64622188e+49\n",
            "  2.68764340e+49 -4.69880006e+49 -3.21491762e+49  6.97645179e+50]\n",
            "Parameters maximizing the Unconditional Likelihood: [-1.05849043e+50  1.06746350e+49 -1.73462824e+49  2.64622188e+49\n",
            "  2.68764340e+49 -4.69880006e+49 -3.21491762e+49  6.97645179e+50]\n"
          ]
        }
      ]
    },
    {
      "cell_type": "code",
      "source": [
        "import numpy as np\n",
        "\n",
        "# Function for forecasting future values\n",
        "def forecast_ar7(params, data, steps):\n",
        "    # Extract parameters\n",
        "    phi = params[:7]\n",
        "    sigma = params[7]\n",
        "\n",
        "    # Initialize forecast array with observed data\n",
        "    forecast = np.copy(data)\n",
        "\n",
        "    # Perform forecasting for future values\n",
        "    for _ in range(steps):\n",
        "        # Calculate the next forecasted value\n",
        "        next_forecast = np.dot(phi, forecast[-7:]) + np.random.normal(0, sigma)\n",
        "        # Append the forecasted value to the forecast array\n",
        "        forecast = np.append(forecast, next_forecast)\n",
        "\n",
        "    return forecast\n",
        "\n",
        "# Forecast using parameters maximizing the conditional likelihood\n",
        "conditional_forecast = forecast_ar7(result_conditional.x, log_diff_indpro, 8)\n",
        "print(\"Forecast based on Conditional Likelihood:\", conditional_forecast[-8:])\n",
        "\n",
        "# Forecast using parameters maximizing the unconditional likelihood\n",
        "unconditional_forecast = forecast_ar7(result_unconditional.x, log_diff_indpro, 8)\n",
        "print(\"Forecast based on Unconditional Likelihood:\", unconditional_forecast[-8:])\n"
      ],
      "metadata": {
        "colab": {
          "base_uri": "https://localhost:8080/"
        },
        "id": "RoRIhZ8SmtdJ",
        "outputId": "913cac12-9dab-4521-9c7d-d72b93f020eb"
      },
      "execution_count": null,
      "outputs": [
        {
          "output_type": "stream",
          "name": "stdout",
          "text": [
            "Forecast based on Conditional Likelihood: [-1.04356353e+051  3.35497079e+100 -1.07859547e+150  3.46759558e+199\n",
            " -1.11480341e+249  3.58400113e+298             -inf              nan]\n",
            "Forecast based on Unconditional Likelihood: [ 4.98897301e+050 -1.60391372e+100  5.15645048e+149 -1.65775635e+199\n",
            "  5.32955009e+248 -1.71340645e+298              inf              nan]\n"
          ]
        }
      ]
    }
  ]
}